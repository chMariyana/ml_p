{
 "cells": [
  {
   "cell_type": "code",
   "execution_count": 1,
   "metadata": {},
   "outputs": [
    {
     "name": "stdout",
     "output_type": "stream",
     "text": [
      "[[6], [6], [6], [6], [6], [6], [7], [8], [9]]\n",
      "(9, 1)\n",
      "[[6 6 6]\n",
      " [6 6 6]\n",
      " [7 8 9]]\n"
     ]
    },
    {
     "data": {
      "text/plain": [
       "(3, 3)"
      ]
     },
     "execution_count": 1,
     "metadata": {},
     "output_type": "execute_result"
    }
   ],
   "source": [
    "import numpy as np \n",
    "a = [1,2,3,4,5,6,7,8]\n",
    "m =  np.amax(a[0:3])\n",
    "a = np.asarray(a)\n",
    "a.reshape(2,4)\n",
    "\n",
    "b= [[6], [6], [6], [6], [6], [6],[7],[8],[9]]\n",
    "\n",
    "print(b)\n",
    "b = np.asarray(b)\n",
    "print(b.shape)\n",
    "b = b.reshape(3,3)\n",
    "print(b)\n",
    "b.shape\n"
   ]
  },
  {
   "cell_type": "code",
   "execution_count": 28,
   "metadata": {},
   "outputs": [],
   "source": [
    "x = 1\n",
    "y  = 2\n",
    "inds = np.zeros((2,))\n",
    "inds[0]=x\n",
    "inds[1]=y\n",
    "inds1 = [2,3]\n",
    "inds2 = [4,5]\n",
    "inds3 = [6,7]\n",
    "inds4 = [8,9]\n",
    "indices = []\n",
    "indices.append(inds)\n",
    "indices.append(inds1)\n",
    "indices.append(inds2)\n",
    "indices.append(inds3)\n",
    "indices.append(inds4)"
   ]
  },
  {
   "cell_type": "code",
   "execution_count": 31,
   "metadata": {},
   "outputs": [
    {
     "data": {
      "text/plain": [
       "array([1., 2., 2., 3., 4., 5., 6., 7., 8., 9.])"
      ]
     },
     "execution_count": 31,
     "metadata": {},
     "output_type": "execute_result"
    }
   ],
   "source": [
    "indices= np.asarray(indices)\n",
    "indices.reshape(-1)"
   ]
  },
  {
   "cell_type": "code",
   "execution_count": 19,
   "metadata": {},
   "outputs": [],
   "source": [
    "a = [1,2,3,4,5,6,7,8]\n",
    "m = np.argmax(a)"
   ]
  },
  {
   "cell_type": "code",
   "execution_count": 20,
   "metadata": {},
   "outputs": [
    {
     "data": {
      "text/plain": [
       "7"
      ]
     },
     "execution_count": 20,
     "metadata": {},
     "output_type": "execute_result"
    }
   ],
   "source": [
    "m"
   ]
  }
 ],
 "metadata": {
  "kernelspec": {
   "display_name": "Python 3",
   "language": "python",
   "name": "python3"
  },
  "language_info": {
   "codemirror_mode": {
    "name": "ipython",
    "version": 3
   },
   "file_extension": ".py",
   "mimetype": "text/x-python",
   "name": "python",
   "nbconvert_exporter": "python",
   "pygments_lexer": "ipython3",
   "version": "3.7.0"
  }
 },
 "nbformat": 4,
 "nbformat_minor": 2
}
